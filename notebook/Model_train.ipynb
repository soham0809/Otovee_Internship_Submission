{
 "cells": [
  {
   "cell_type": "code",
   "execution_count": null,
   "id": "51afc438",
   "metadata": {},
   "outputs": [],
   "source": [
    "import numpy as np\n",
    "import pandas as pd\n",
    "import seaborn as sns\n",
    "import matplotlib.pyplot as plt\n",
    "%matplotlib inline\n",
    "import warnings\n",
    "warnings.filterwarnings('ignore')"
   ]
  },
  {
   "cell_type": "code",
   "execution_count": null,
   "id": "e98c9616",
   "metadata": {},
   "outputs": [],
   "source": [
    "df = pd.read_csv('pcos_data.csv')"
   ]
  },
  {
   "cell_type": "code",
   "execution_count": null,
   "id": "db58397d",
   "metadata": {},
   "outputs": [],
   "source": [
    "df.head()"
   ]
  },
  {
   "cell_type": "code",
   "execution_count": null,
   "id": "ae49e73a",
   "metadata": {},
   "outputs": [],
   "source": [
    "df.shape"
   ]
  },
  {
   "cell_type": "code",
   "execution_count": null,
   "id": "135ead3e",
   "metadata": {},
   "outputs": [],
   "source": [
    "df.isna().sum()"
   ]
  },
  {
   "cell_type": "code",
   "execution_count": null,
   "id": "54829f21",
   "metadata": {},
   "outputs": [],
   "source": [
    "import pandas as pd\n",
    "\n",
    "\n",
    "num_duplicates = df.duplicated().sum()\n",
    "duplicate_rows = df[df.duplicated()]\n",
    "print(duplicate_rows)\n"
   ]
  },
  {
   "cell_type": "code",
   "execution_count": null,
   "id": "cd2021d4",
   "metadata": {},
   "outputs": [],
   "source": [
    "# Check Null and Dtypes\n",
    "df.info()"
   ]
  },
  {
   "cell_type": "code",
   "execution_count": null,
   "id": "1968a027",
   "metadata": {},
   "outputs": [],
   "source": [
    "df.nunique()"
   ]
  },
  {
   "cell_type": "code",
   "execution_count": null,
   "id": "d27186e1",
   "metadata": {},
   "outputs": [],
   "source": [
    "df.describe()"
   ]
  },
  {
   "cell_type": "markdown",
   "id": "759f4309",
   "metadata": {},
   "source": [
    "## LETS TRAIN THE MODEL"
   ]
  },
  {
   "cell_type": "code",
   "execution_count": null,
   "id": "ab1ee626",
   "metadata": {},
   "outputs": [],
   "source": [
    "# Basic Import\n",
    "import numpy as np\n",
    "import pandas as pd\n",
    "import matplotlib.pyplot as plt \n",
    "import seaborn as sns\n",
    "# Modelling\n",
    "from sklearn.metrics import mean_squared_error, r2_score\n",
    "from sklearn.neighbors import KNeighborsRegressor\n",
    "from sklearn.tree import DecisionTreeRegressor\n",
    "from sklearn.ensemble import RandomForestRegressor,AdaBoostRegressor\n",
    "from sklearn.svm import SVR\n",
    "from sklearn.linear_model import LinearRegression, Ridge,Lasso\n",
    "from sklearn.metrics import r2_score, mean_absolute_error, mean_squared_error\n",
    "from sklearn.model_selection import RandomizedSearchCV\n",
    "from catboost import CatBoostRegressor\n",
    "from xgboost import XGBRegressor\n",
    "import warnings"
   ]
  },
  {
   "cell_type": "code",
   "execution_count": null,
   "id": "118554c5",
   "metadata": {},
   "outputs": [],
   "source": [
    "df.head()"
   ]
  },
  {
   "cell_type": "code",
   "execution_count": null,
   "id": "495f7725",
   "metadata": {},
   "outputs": [],
   "source": [
    "df.columns = df.columns.str.strip()\n"
   ]
  },
  {
   "cell_type": "code",
   "execution_count": null,
   "id": "6247a925",
   "metadata": {},
   "outputs": [],
   "source": [
    "# Check the exact values in your columns\n",
    "print(df[[\"I_beta-HCG(mIU/mL)\", \"II_beta-HCG(mIU/mL)\", \"AMH(ng/mL)\"]].dtypes)"
   ]
  },
  {
   "cell_type": "code",
   "execution_count": null,
   "id": "7d151f20",
   "metadata": {},
   "outputs": [],
   "source": [
    "# This will show you exactly what non-numeric values exist\n",
    "for col in [\"I_beta-HCG(mIU/mL)\", \"II_beta-HCG(mIU/mL)\", \"AMH(ng/mL)\"]:\n",
    "    non_numeric = df[col][pd.to_numeric(df[col], errors='coerce').isna()]\n",
    "    if len(non_numeric) > 0:\n",
    "        print(f\"{col}: {non_numeric.unique()}\")"
   ]
  },
  {
   "cell_type": "code",
   "execution_count": null,
   "id": "7aaf4e82",
   "metadata": {},
   "outputs": [],
   "source": [
    "# Convert problematic columns to numeric, replacing 'a' and other text with NaN\n",
    "df[\"I_beta-HCG(mIU/mL)\"] = pd.to_numeric(df[\"I_beta-HCG(mIU/mL)\"], errors='coerce')\n",
    "df[\"II_beta-HCG(mIU/mL)\"] = pd.to_numeric(df[\"II_beta-HCG(mIU/mL)\"], errors='coerce')\n",
    "df[\"AMH(ng/mL)\"] = pd.to_numeric(df[\"AMH(ng/mL)\"], errors='coerce')"
   ]
  },
  {
   "cell_type": "code",
   "execution_count": null,
   "id": "328f0f16",
   "metadata": {},
   "outputs": [],
   "source": [
    "# Option 1: Drop rows with NaN\n",
    "df = df.dropna(subset=[\"I_beta-HCG(mIU/mL)\", \"II_beta-HCG(mIU/mL)\", \"AMH(ng/mL)\", \"PCOS\"])\n"
   ]
  },
  {
   "cell_type": "code",
   "execution_count": null,
   "id": "6a27ec09",
   "metadata": {},
   "outputs": [],
   "source": [
    "X = df[[\"I_beta-HCG(mIU/mL)\", \"II_beta-HCG(mIU/mL)\", \"AMH(ng/mL)\"]]\n",
    "y = df[\"PCOS\"]\n",
    "\n",
    "scaler = StandardScaler()\n",
    "X_scaled = scaler.fit_transform(X)"
   ]
  },
  {
   "cell_type": "code",
   "execution_count": null,
   "id": "b4d7d628",
   "metadata": {},
   "outputs": [],
   "source": [
    "from sklearn.preprocessing import StandardScaler\n",
    "\n",
    "# Define X and y\n",
    "X = df[[\"I_beta-HCG(mIU/mL)\", \"II_beta-HCG(mIU/mL)\", \"AMH(ng/mL)\"]]\n",
    "y = df[\"PCOS\"]\n",
    "\n",
    "# Apply standard scaling\n",
    "scaler = StandardScaler()\n",
    "X_scaled = scaler.fit_transform(X)\n",
    "\n",
    "# Optional: Convert back to DataFrame for inspection\n",
    "import pandas as pd\n",
    "X_scaled_df = pd.DataFrame(X_scaled, columns=X.columns)\n",
    "\n",
    "print(X_scaled_df)\n"
   ]
  },
  {
   "cell_type": "code",
   "execution_count": null,
   "id": "a79928fd",
   "metadata": {},
   "outputs": [],
   "source": [
    "print(df[\"PCOS\"].unique())\n",
    "print(df[\"PCOS\"].value_counts())"
   ]
  },
  {
   "cell_type": "code",
   "execution_count": null,
   "id": "937f57ba",
   "metadata": {},
   "outputs": [],
   "source": [
    "from sklearn.linear_model import LogisticRegression\n",
    "from sklearn.ensemble import RandomForestClassifier\n",
    "from sklearn.svm import SVC\n",
    "from sklearn.neighbors import KNeighborsClassifier\n",
    "from sklearn.tree import DecisionTreeClassifier\n",
    "from sklearn.ensemble import AdaBoostClassifier\n",
    "from xgboost import XGBClassifier\n",
    "from sklearn.metrics import accuracy_score, classification_report, confusion_matrix\n",
    "\n",
    "# Classification models\n",
    "models = {\n",
    "    \"Logistic Regression\": LogisticRegression(),\n",
    "    \"Random Forest\": RandomForestClassifier(),\n",
    "    \"SVM\": SVC(),\n",
    "    \"KNN\": KNeighborsClassifier(),\n",
    "    \"Decision Tree\": DecisionTreeClassifier(),\n",
    "    \"XGBoost\": XGBClassifier(),\n",
    "    \"AdaBoost\": AdaBoostClassifier()\n",
    "}\n",
    "\n",
    "# Classification evaluation function\n",
    "def evaluate_classification(true, predicted):\n",
    "    acc = accuracy_score(true, predicted)\n",
    "    return acc"
   ]
  },
  {
   "cell_type": "code",
   "execution_count": null,
   "id": "828ada48",
   "metadata": {},
   "outputs": [],
   "source": [
    "# After cleaning the data as we discussed\n",
    "X = df[[\"I_beta-HCG(mIU/mL)\", \"II_beta-HCG(mIU/mL)\", \"AMH(ng/mL)\"]]\n",
    "y = df[\"PCOS\"]\n",
    "\n",
    "# Scale the features\n",
    "scaler = StandardScaler()\n",
    "X_scaled = scaler.fit_transform(X)"
   ]
  },
  {
   "cell_type": "code",
   "execution_count": null,
   "id": "ce6f584e",
   "metadata": {},
   "outputs": [],
   "source": [
    "from sklearn.model_selection import train_test_split\n",
    "X_train, X_test, y_train, y_test = train_test_split(X_scaled, y, test_size=0.2, random_state=42)"
   ]
  },
  {
   "cell_type": "code",
   "execution_count": null,
   "id": "3531fb75",
   "metadata": {},
   "outputs": [],
   "source": [
    "# For CLASSIFICATION (if PCOS is binary):\n",
    "for name, model in models.items():\n",
    "    model.fit(X_train, y_train)\n",
    "    y_pred = model.predict(X_test)\n",
    "    acc = accuracy_score(y_test, y_pred)\n",
    "    print(f\"{name}: {acc:.4f}\")"
   ]
  },
  {
   "cell_type": "code",
   "execution_count": null,
   "id": "a97d30f8",
   "metadata": {},
   "outputs": [],
   "source": [
    "from sklearn.metrics import classification_report, confusion_matrix\n",
    "\n",
    "# Best model appears to be Logistic Regression (70.37%)\n",
    "best_model = LogisticRegression()\n",
    "best_model.fit(X_train, y_train)\n",
    "y_pred = best_model.predict(X_test)\n",
    "\n",
    "print(\"=== DETAILED EVALUATION ===\")\n",
    "print(\"Classification Report:\")\n",
    "print(classification_report(y_test, y_pred))\n",
    "\n",
    "print(\"\\nConfusion Matrix:\")\n",
    "print(confusion_matrix(y_test, y_pred))"
   ]
  },
  {
   "cell_type": "code",
   "execution_count": null,
   "id": "153d5a68",
   "metadata": {},
   "outputs": [],
   "source": [
    "import pandas as pd\n",
    "\n",
    "results = []\n",
    "for name, model in models.items():\n",
    "    model.fit(X_train, y_train)\n",
    "    y_pred = model.predict(X_test)\n",
    "    acc = accuracy_score(y_test, y_pred)\n",
    "    results.append({'Model': name, 'Accuracy': acc})\n",
    "\n",
    "# Create results DataFrame\n",
    "results_df = pd.DataFrame(results).sort_values('Accuracy', ascending=False)\n",
    "print(results_df)"
   ]
  },
  {
   "cell_type": "code",
   "execution_count": null,
   "id": "b3a3b759",
   "metadata": {},
   "outputs": [],
   "source": [
    "print(\"Before SMOTE:\")\n",
    "print(y.value_counts())\n",
    "# Output: 0: 363, 1: 177 (1 has ~50% fewer samples)"
   ]
  },
  {
   "cell_type": "code",
   "execution_count": null,
   "id": "bdc1d7e4",
   "metadata": {},
   "outputs": [],
   "source": [
    "from imblearn.over_sampling import SMOTE\n",
    "\n",
    "# SMOTE automatically detects minority class (1) and increases it\n",
    "smote = SMOTE(random_state=42)\n",
    "X_resampled, y_resampled = smote.fit_resample(X_scaled, y)\n",
    "\n",
    "print(\"After SMOTE:\")\n",
    "print(pd.Series(y_resampled).value_counts())\n",
    "# Output will be: 0: 363, 1: 363 (now 1 is doubled/increased to match 0)"
   ]
  },
  {
   "cell_type": "code",
   "execution_count": null,
   "id": "43253016",
   "metadata": {},
   "outputs": [],
   "source": [
    "X_train, X_test, y_train, y_test = train_test_split(\n",
    "    X_resampled, y_resampled, \n",
    "    test_size=0.2, \n",
    "    random_state=42,\n",
    "    stratify=y_resampled  # This ensures balanced split\n",
    ")\n",
    "\n",
    "print(f\"Training set: {pd.Series(y_train).value_counts()}\")\n",
    "print(f\"Test set: {pd.Series(y_test).value_counts()}\")"
   ]
  },
  {
   "cell_type": "code",
   "execution_count": null,
   "id": "fd9bc5a0",
   "metadata": {},
   "outputs": [],
   "source": [
    "results_balanced = []\n",
    "for name, model in models.items():\n",
    "    model.fit(X_train, y_train)\n",
    "    y_pred = model.predict(X_test)\n",
    "    acc = accuracy_score(y_test, y_pred)\n",
    "    results_balanced.append({'Model': name, 'Accuracy': acc})\n",
    "\n",
    "results_balanced_df = pd.DataFrame(results_balanced).sort_values('Accuracy', ascending=False)\n",
    "print(\"Results with SMOTE:\")\n",
    "print(results_balanced_df)"
   ]
  },
  {
   "cell_type": "code",
   "execution_count": null,
   "id": "213c85e8",
   "metadata": {},
   "outputs": [],
   "source": [
    "print(\"=== COMPARISON ===\")\n",
    "print(\"Without SMOTE - Best accuracy:\", results_df['Accuracy'].max())\n",
    "print(\"With SMOTE - Best accuracy:\", results_balanced_df['Accuracy'].max())"
   ]
  },
  {
   "cell_type": "code",
   "execution_count": null,
   "id": "22a60dfb",
   "metadata": {},
   "outputs": [],
   "source": []
  },
  {
   "cell_type": "code",
   "execution_count": null,
   "id": "0277203b",
   "metadata": {},
   "outputs": [],
   "source": []
  }
 ],
 "metadata": {
  "kernelspec": {
   "display_name": "Python 3",
   "language": "python",
   "name": "python3"
  },
  "language_info": {
   "codemirror_mode": {
    "name": "ipython",
    "version": 3
   },
   "file_extension": ".py",
   "mimetype": "text/x-python",
   "name": "python",
   "nbconvert_exporter": "python",
   "pygments_lexer": "ipython3",
   "version": "3.8.20"
  }
 },
 "nbformat": 4,
 "nbformat_minor": 5
}
